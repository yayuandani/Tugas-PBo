{
 "cells": [
  {
   "cell_type": "code",
   "execution_count": 1,
   "metadata": {
    "id": "vcWWM9-jNgXb"
   },
   "outputs": [
    {
     "name": "stdout",
     "output_type": "stream",
     "text": [
      "Hasil modulus 1\n"
     ]
    }
   ],
   "source": [
    "c=10\n",
    "d=3\n",
    "\n",
    "modulus=c%d\n",
    "print(\"Hasil modulus\",modulus)"
   ]
  },
  {
   "cell_type": "markdown",
   "metadata": {
    "id": "tPBAeoa4NxzC"
   },
   "source": [
    "**Operasi modulus**\n",
    "\n",
    "Modulus memang jarang dipakai namun, dibeberapa kasus modulus sangat berguna untuk mempercepat proses perhitungan. Modulus sendiri merupakan fungsi yang akan menghitung sisa dari hasil pembagian. Untuk lebih jelasnya silahkan lakukan praktek di bawah ini :\n",
    "``` javascript\n",
    "c=10\n",
    "d=3\n",
    "\n",
    "modulus=c%d\n",
    "print(\"Hasil modulus\",modulus)\n",
    "```\n",
    "Ketikan code cell di bawah ini pada editor:"
   ]
  },
  {
   "cell_type": "code",
   "execution_count": null,
   "metadata": {
    "id": "fhfc8ABhOxQa"
   },
   "outputs": [],
   "source": [
    "##Jawaban Tugas Praktek 3.2"
   ]
  },
  {
   "cell_type": "markdown",
   "metadata": {
    "id": "dvFFTUG2O_Cb"
   },
   "source": [
    "Kenapa modulus bisa seperti itu? (berikan jawaban anda pada cell teks diabawah ini)"
   ]
  },
  {
   "cell_type": "markdown",
   "metadata": {
    "id": "Fn8nPF6TPEGa"
   },
   "source": [
    "##Jawaban Keterangan \n",
    "karna, 10 mod 3 menghasilakan hasil bagi=1\n",
    "...."
   ]
  },
  {
   "cell_type": "code",
   "execution_count": 3,
   "metadata": {},
   "outputs": [],
   "source": [
    "##jawaban keterangan\n"
   ]
  },
  {
   "cell_type": "code",
   "execution_count": null,
   "metadata": {},
   "outputs": [],
   "source": []
  }
 ],
 "metadata": {
  "colab": {
   "collapsed_sections": [],
   "name": "4.2_Operasi_modulus.ipynb",
   "provenance": []
  },
  "kernelspec": {
   "display_name": "Python 3",
   "language": "python",
   "name": "python3"
  },
  "language_info": {
   "codemirror_mode": {
    "name": "ipython",
    "version": 3
   },
   "file_extension": ".py",
   "mimetype": "text/x-python",
   "name": "python",
   "nbconvert_exporter": "python",
   "pygments_lexer": "ipython3",
   "version": "3.8.3"
  }
 },
 "nbformat": 4,
 "nbformat_minor": 1
}
