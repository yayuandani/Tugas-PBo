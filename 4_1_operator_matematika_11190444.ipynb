{
 "cells": [
  {
   "cell_type": "code",
   "execution_count": 1,
   "metadata": {
    "colab": {
     "base_uri": "https://localhost:8080/"
    },
    "id": "f7WajviOKztl",
    "outputId": "47ace856-f4f0-41d0-df4c-9c0b7bf356e9"
   },
   "outputs": [
    {
     "name": "stdout",
     "output_type": "stream",
     "text": [
      "Hasil penjumlahan dan b adalah 15\n",
      "Selisih a dan b adalah : 5\n",
      "Hasil perkalian a dan b adalah : 50\n",
      "Hasil  pembagian a dan b adalah: 2.0\n"
     ]
    }
   ],
   "source": [
    "a=10\n",
    "b=5\n",
    "selisih = a-b\n",
    "jumlah = a+b\n",
    "kali = a*b\n",
    "bagi = a/b\n",
    "print(\"Hasil penjumlahan dan b adalah\", jumlah)\n",
    "print(\"Selisih a dan b adalah :\",selisih)\n",
    "print(\"Hasil perkalian a dan b adalah :\",kali)\n",
    "print(\"Hasil  pembagian a dan b adalah:\",bagi)\n",
    " "
   ]
  },
  {
   "cell_type": "markdown",
   "metadata": {
    "id": "Zf9uJW37LCfb"
   },
   "source": [
    "**Praktek Operasi Matematika**\n",
    "\n",
    "Pada praktek ini kita akan mencoba semua operator matematika.\n",
    "\n",
    "Praktek pada sesi kali ini akan menekankan bagaimana menggunakan operator langsung diimplementasikan dengan variable.\n",
    "\n",
    "Implementasikan code di bawah ini pada kode cell editor:\n",
    "``` javascript\n",
    "a=10\n",
    "b=5\n",
    "selisih = a-b\n",
    "jumlah = a+b\n",
    "kali = a*b\n",
    "bagi = a/b\n",
    "print(\"Hasil penjumlahan dan b adalah\", jumlah)\n",
    "print(\"Selisih a dan b adalah :\",selisih)\n",
    "print(\"Hasil perkalian a dan b adalah :\",kali)\n",
    "print(\"Hasil  pembagian a dan b adalah:\",bagi)\n",
    "\n",
    "``` \n",
    " \n",
    "\n",
    "Ketikan code cell di bawah ini pada editor:"
   ]
  },
  {
   "cell_type": "code",
   "execution_count": null,
   "metadata": {
    "id": "hYGfkiKOMo_x"
   },
   "outputs": [],
   "source": [
    "##Jawaban Tugas Praktek 3.1\n"
   ]
  }
 ],
 "metadata": {
  "accelerator": "GPU",
  "colab": {
   "collapsed_sections": [],
   "name": "4_1_operator_matematika.ipynb",
   "provenance": []
  },
  "kernelspec": {
   "display_name": "Python 3",
   "language": "python",
   "name": "python3"
  },
  "language_info": {
   "codemirror_mode": {
    "name": "ipython",
    "version": 3
   },
   "file_extension": ".py",
   "mimetype": "text/x-python",
   "name": "python",
   "nbconvert_exporter": "python",
   "pygments_lexer": "ipython3",
   "version": "3.8.3"
  }
 },
 "nbformat": 4,
 "nbformat_minor": 1
}
