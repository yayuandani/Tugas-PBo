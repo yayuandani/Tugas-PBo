{
 "cells": [
  {
   "cell_type": "code",
   "execution_count": null,
   "metadata": {
    "id": "fkV8YRAQlm-C"
   },
   "outputs": [],
   "source": []
  },
  {
   "cell_type": "markdown",
   "metadata": {
    "id": "lnkJ-zBHl3jp"
   },
   "source": [
    "## Access Element\n",
    "Keunikan lain dari looping dengan python adalah selain bahasa yang mudah dimengerti dalam looping, kita juga bisa mengakses elemen yang terdapat pada sebuah list. Berikut ini contohnya :\n",
    "``` javascript\n",
    "#Tugas 3.2.1\n",
    "count=[1,2,3,4,5] #elemen list\n",
    "\n",
    "for number in count: #looping untuk menampilkan semua elemen pada count\n",
    "    print(\"Ini adalah element count : \", number) #menampilkan elemen list pada count\n",
    "```\n",
    "Implekementasikan kode diatas, ketikan pada code cell di bawah ini, berikan penjelasan terkait kode diatas"
   ]
  },
  {
   "cell_type": "code",
   "execution_count": 1,
   "metadata": {
    "id": "xYjQqqNLm-dB"
   },
   "outputs": [
    {
     "name": "stdout",
     "output_type": "stream",
     "text": [
      "Ini adalah element count :  1\n",
      "Ini adalah element count :  2\n",
      "Ini adalah element count :  3\n",
      "Ini adalah element count :  4\n",
      "Ini adalah element count :  5\n"
     ]
    }
   ],
   "source": [
    "# Jawaban Tugas 3.2.1\n",
    "count=[1,2,3,4,5] #elemen list\n",
    "\n",
    "for number in count: #looping untuk menampilkan semua elemen pada count\n",
    "    print(\"Ini adalah element count : \", number) #menampilkan elemen list pada count"
   ]
  },
  {
   "cell_type": "markdown",
   "metadata": {
    "id": "figDWKAcnZRA"
   },
   "source": [
    "## Tugas Praktek 3.2.2\n",
    "1. Buatlah sebuah program yang bisa mengeluarkan angka 1 sampai 10.\n",
    "1. Buatlah sebuah program yang bisa mengeluarkan angka -20 sampai -50.\n",
    "3. Tampilan akan menunjukan \"Angka ganjil 1\" untuk angka ganjil dan \"Angka genap 2\" untuk angka genap. (Menggunakan looping for)\n",
    "\n",
    "**Note:** Kode dasar sudah disertakan, Anda cukup mengganti tanda # dengan nilai-nilai yang sesuai."
   ]
  },
  {
   "cell_type": "code",
   "execution_count": 2,
   "metadata": {
    "id": "MElhruOTntzZ"
   },
   "outputs": [
    {
     "name": "stdout",
     "output_type": "stream",
     "text": [
      "1\n",
      "2\n",
      "3\n",
      "4\n",
      "5\n",
      "6\n",
      "7\n",
      "8\n",
      "9\n",
      "10\n"
     ]
    }
   ],
   "source": [
    "#Jawaban Tugas 3.2.1.1\n",
    "angka = 1\n",
    "while angka < 11:\n",
    "    print(angka)\n",
    "    angka += 1 #tambahkan kode ini"
   ]
  },
  {
   "cell_type": "code",
   "execution_count": 4,
   "metadata": {
    "id": "NFtMjrQznuF2"
   },
   "outputs": [
    {
     "name": "stdout",
     "output_type": "stream",
     "text": [
      "-50\n",
      "-49\n",
      "-48\n",
      "-47\n",
      "-46\n",
      "-45\n",
      "-44\n",
      "-43\n",
      "-42\n",
      "-41\n",
      "-40\n",
      "-39\n",
      "-38\n",
      "-37\n",
      "-36\n",
      "-35\n",
      "-34\n",
      "-33\n",
      "-32\n",
      "-31\n",
      "-30\n",
      "-29\n",
      "-28\n",
      "-27\n",
      "-26\n",
      "-25\n",
      "-24\n",
      "-23\n",
      "-22\n",
      "-21\n",
      "-20\n"
     ]
    }
   ],
   "source": [
    "#Jawaban Tugas 3.2.1.2\n",
    "i = -50\n",
    "while i <= -20:\n",
    "        print(i)\n",
    "        i += 1"
   ]
  },
  {
   "cell_type": "code",
   "execution_count": 6,
   "metadata": {
    "id": "xpGigMPBpBy7"
   },
   "outputs": [
    {
     "name": "stdout",
     "output_type": "stream",
     "text": [
      "masukan angka:2\n",
      "angka ganjil 1 \n",
      "angka genap 2\n"
     ]
    }
   ],
   "source": [
    "#Jawaban Tugas 3.2.1.3\n",
    "n = int(input(\"masukan angka:\"))\n",
    "for i in range (1,n+1):\n",
    "    if i%2==0 :\n",
    "        print (\"angka genap 2\")\n",
    "    else:\n",
    "        print(\"angka ganjil 1 \")"
   ]
  },
  {
   "cell_type": "code",
   "execution_count": null,
   "metadata": {},
   "outputs": [],
   "source": []
  }
 ],
 "metadata": {
  "colab": {
   "collapsed_sections": [],
   "name": "3.2_Tugas_Perulangan.ipynb",
   "provenance": []
  },
  "kernelspec": {
   "display_name": "Python 3",
   "language": "python",
   "name": "python3"
  },
  "language_info": {
   "codemirror_mode": {
    "name": "ipython",
    "version": 3
   },
   "file_extension": ".py",
   "mimetype": "text/x-python",
   "name": "python",
   "nbconvert_exporter": "python",
   "pygments_lexer": "ipython3",
   "version": "3.8.3"
  }
 },
 "nbformat": 4,
 "nbformat_minor": 1
}
